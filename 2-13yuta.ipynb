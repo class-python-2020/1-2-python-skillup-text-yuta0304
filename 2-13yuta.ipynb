{
 "metadata": {
  "language_info": {
   "codemirror_mode": {
    "name": "ipython",
    "version": 3
   },
   "file_extension": ".py",
   "mimetype": "text/x-python",
   "name": "python",
   "nbconvert_exporter": "python",
   "pygments_lexer": "ipython3",
   "version": "3.8.2-final"
  },
  "orig_nbformat": 2,
  "kernelspec": {
   "name": "python38232bit4bf12f02b3484799821d3418dc1bc7fc",
   "display_name": "Python 3.8.2 32-bit"
  }
 },
 "nbformat": 4,
 "nbformat_minor": 2,
 "cells": [
  {
   "cell_type": "code",
   "execution_count": 1,
   "metadata": {},
   "outputs": [],
   "source": [
    "import random"
   ]
  },
  {
   "cell_type": "code",
   "execution_count": 2,
   "metadata": {},
   "outputs": [],
   "source": [
    "from random import randint"
   ]
  },
  {
   "cell_type": "code",
   "execution_count": 14,
   "metadata": {
    "tags": []
   },
   "outputs": [
    {
     "output_type": "stream",
     "name": "stdout",
     "text": "9\n"
    }
   ],
   "source": [
    "from random import randint\n",
    "print(randint(0, 10))"
   ]
  },
  {
   "cell_type": "code",
   "execution_count": 56,
   "metadata": {
    "tags": []
   },
   "outputs": [
    {
     "output_type": "stream",
     "name": "stdout",
     "text": "5\na\n"
    }
   ],
   "source": [
    "from random import randint, choice\n",
    "print(randint(0, 10))\n",
    "print(choice(['a', 'b', 'c']))"
   ]
  },
  {
   "cell_type": "code",
   "execution_count": 79,
   "metadata": {
    "tags": []
   },
   "outputs": [
    {
     "output_type": "stream",
     "name": "stdout",
     "text": "4\n"
    }
   ],
   "source": [
    "from random import *\n",
    "print(randint(0, 10))"
   ]
  },
  {
   "cell_type": "code",
   "execution_count": 127,
   "metadata": {
    "tags": []
   },
   "outputs": [
    {
     "output_type": "stream",
     "name": "stdout",
     "text": "10\n"
    }
   ],
   "source": [
    "import random as rd\n",
    "print(rd.randint(0, 10))"
   ]
  },
  {
   "cell_type": "code",
   "execution_count": 128,
   "metadata": {},
   "outputs": [
    {
     "output_type": "error",
     "ename": "ModuleNotFoundError",
     "evalue": "No module named 'numpy'",
     "traceback": [
      "\u001b[1;31m---------------------------------------------------------------------------\u001b[0m",
      "\u001b[1;31mModuleNotFoundError\u001b[0m                       Traceback (most recent call last)",
      "\u001b[1;32m<ipython-input-128-fa18575525b6>\u001b[0m in \u001b[0;36m<module>\u001b[1;34m\u001b[0m\n\u001b[1;32m----> 1\u001b[1;33m \u001b[1;32mimport\u001b[0m \u001b[0mnumpy\u001b[0m \u001b[1;32mas\u001b[0m \u001b[0mnp\u001b[0m\u001b[1;33m\u001b[0m\u001b[1;33m\u001b[0m\u001b[0m\n\u001b[0m\u001b[0;32m      2\u001b[0m \u001b[1;32mimport\u001b[0m \u001b[0mpandas\u001b[0m \u001b[1;32mas\u001b[0m \u001b[0mpd\u001b[0m\u001b[1;33m\u001b[0m\u001b[1;33m\u001b[0m\u001b[0m\n\u001b[0;32m      3\u001b[0m \u001b[1;32mimport\u001b[0m \u001b[0mmatplotlib\u001b[0m\u001b[1;33m.\u001b[0m\u001b[0mpyplot\u001b[0m \u001b[1;32mas\u001b[0m \u001b[0mplt\u001b[0m\u001b[1;33m\u001b[0m\u001b[1;33m\u001b[0m\u001b[0m\n",
      "\u001b[1;31mModuleNotFoundError\u001b[0m: No module named 'numpy'"
     ]
    }
   ],
   "source": [
    "import numpy as np\n",
    "import pandas as pd\n",
    "import matplotlib.pyplot as plt"
   ]
  },
  {
   "cell_type": "code",
   "execution_count": 129,
   "metadata": {},
   "outputs": [
    {
     "output_type": "execute_result",
     "data": {
      "text/plain": "5"
     },
     "metadata": {},
     "execution_count": 129
    }
   ],
   "source": [
    "from random import randint as rint\n",
    "rint(1, 10)"
   ]
  },
  {
   "cell_type": "code",
   "execution_count": 130,
   "metadata": {
    "tags": []
   },
   "outputs": [
    {
     "output_type": "stream",
     "name": "stdout",
     "text": "['c:\\\\Users\\\\HunakoshiYuta\\\\Documents\\\\GitHub\\\\1-2-python-skillup-text-yuta0304', 'C:\\\\Users\\\\HUNAKO~1\\\\AppData\\\\Local\\\\Temp\\\\eade23d5-d92e-41af-a9d7-dc45afd8d919', 'c:\\\\Users\\\\HunakoshiYuta\\\\.vscode\\\\extensions\\\\ms-python.python-2020.7.96456\\\\pythonFiles', 'c:\\\\Users\\\\HunakoshiYuta\\\\.vscode\\\\extensions\\\\ms-python.python-2020.7.96456\\\\pythonFiles\\\\lib\\\\python', 'C:\\\\Users\\\\HunakoshiYuta\\\\AppData\\\\Local\\\\Programs\\\\Python\\\\Python38-32\\\\python38.zip', 'C:\\\\Users\\\\HunakoshiYuta\\\\AppData\\\\Local\\\\Programs\\\\Python\\\\Python38-32\\\\DLLs', 'C:\\\\Users\\\\HunakoshiYuta\\\\AppData\\\\Local\\\\Programs\\\\Python\\\\Python38-32\\\\lib', 'C:\\\\Users\\\\HunakoshiYuta\\\\AppData\\\\Local\\\\Programs\\\\Python\\\\Python38-32', '', 'C:\\\\Users\\\\HunakoshiYuta\\\\AppData\\\\Local\\\\Programs\\\\Python\\\\Python38-32\\\\lib\\\\site-packages', 'C:\\\\Users\\\\HunakoshiYuta\\\\AppData\\\\Local\\\\Programs\\\\Python\\\\Python38-32\\\\lib\\\\site-packages\\\\win32', 'C:\\\\Users\\\\HunakoshiYuta\\\\AppData\\\\Local\\\\Programs\\\\Python\\\\Python38-32\\\\lib\\\\site-packages\\\\win32\\\\lib', 'C:\\\\Users\\\\HunakoshiYuta\\\\AppData\\\\Local\\\\Programs\\\\Python\\\\Python38-32\\\\lib\\\\site-packages\\\\Pythonwin', 'C:\\\\Users\\\\HunakoshiYuta\\\\AppData\\\\Local\\\\Programs\\\\Python\\\\Python38-32\\\\lib\\\\site-packages\\\\IPython\\\\extensions', 'C:\\\\Users\\\\HunakoshiYuta\\\\.ipython']\n"
    }
   ],
   "source": [
    "import sys\n",
    "print(sys.path)"
   ]
  },
  {
   "cell_type": "code",
   "execution_count": 131,
   "metadata": {},
   "outputs": [
    {
     "output_type": "execute_result",
     "data": {
      "text/plain": "8.0"
     },
     "metadata": {},
     "execution_count": 131
    }
   ],
   "source": [
    "from math import pow\n",
    "pow(2,3)"
   ]
  },
  {
   "cell_type": "code",
   "execution_count": 132,
   "metadata": {},
   "outputs": [
    {
     "output_type": "execute_result",
     "data": {
      "text/plain": "8.0"
     },
     "metadata": {},
     "execution_count": 132
    }
   ],
   "source": [
    "from math import pow\n",
    "pow(2,3)"
   ]
  },
  {
   "cell_type": "code",
   "execution_count": 136,
   "metadata": {},
   "outputs": [
    {
     "output_type": "execute_result",
     "data": {
      "text/plain": "8.0"
     },
     "metadata": {},
     "execution_count": 136
    }
   ],
   "source": [
    "pow(2,3)"
   ]
  },
  {
   "cell_type": "code",
   "execution_count": 137,
   "metadata": {},
   "outputs": [
    {
     "output_type": "execute_result",
     "data": {
      "text/plain": "8.0"
     },
     "metadata": {},
     "execution_count": 137
    }
   ],
   "source": [
    "pow(2.0, 3)"
   ]
  },
  {
   "cell_type": "code",
   "execution_count": 138,
   "metadata": {
    "tags": []
   },
   "outputs": [
    {
     "output_type": "stream",
     "name": "stdout",
     "text": "6\n6\n"
    }
   ],
   "source": [
    "import random\n",
    "from random import randint\n",
    "\n",
    "print(random.randint(0, 10))\n",
    "print(randint(0, 10))"
   ]
  },
  {
   "cell_type": "code",
   "execution_count": 188,
   "metadata": {
    "tags": []
   },
   "outputs": [
    {
     "output_type": "stream",
     "name": "stdout",
     "text": "3\n8\n"
    }
   ],
   "source": [
    "import random\n",
    "from random import randint\n",
    "\n",
    "print(random.randint(0, 10))\n",
    "print(randint(0, 10))"
   ]
  }
 ]
}